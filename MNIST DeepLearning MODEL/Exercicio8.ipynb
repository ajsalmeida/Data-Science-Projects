{
 "cells": [
  {
   "cell_type": "markdown",
   "id": "757263fb",
   "metadata": {},
   "source": [
    "### Importação das bibliotecas principais"
   ]
  },
  {
   "cell_type": "code",
   "execution_count": 34,
   "id": "131bc822",
   "metadata": {},
   "outputs": [],
   "source": [
    "import tensorflow as tf\n",
    "from tensorflow import keras\n",
    "from keras.datasets import mnist\n",
    "from keras.models import Sequential\n",
    "from keras.layers import Dense\n",
    "from keras.utils.np_utils import to_categorical\n",
    "from keras.callbacks import EarlyStopping"
   ]
  },
  {
   "cell_type": "markdown",
   "id": "b19522dc",
   "metadata": {},
   "source": [
    "### Importação das bibliotecas auxiliares"
   ]
  },
  {
   "cell_type": "code",
   "execution_count": 35,
   "id": "04ba0cd7",
   "metadata": {},
   "outputs": [],
   "source": [
    "import numpy as np\n",
    "import pandas as pd\n",
    "import matplotlib.pyplot as plt"
   ]
  },
  {
   "cell_type": "markdown",
   "id": "3ae8f03c",
   "metadata": {},
   "source": [
    "### Importação dos dados mnist"
   ]
  },
  {
   "cell_type": "code",
   "execution_count": 36,
   "id": "72ecae66",
   "metadata": {},
   "outputs": [],
   "source": [
    "df = pd.read_csv('mnist.csv')"
   ]
  },
  {
   "cell_type": "code",
   "execution_count": 37,
   "id": "45846ed8",
   "metadata": {},
   "outputs": [
    {
     "data": {
      "text/html": [
       "<div>\n",
       "<style scoped>\n",
       "    .dataframe tbody tr th:only-of-type {\n",
       "        vertical-align: middle;\n",
       "    }\n",
       "\n",
       "    .dataframe tbody tr th {\n",
       "        vertical-align: top;\n",
       "    }\n",
       "\n",
       "    .dataframe thead th {\n",
       "        text-align: right;\n",
       "    }\n",
       "</style>\n",
       "<table border=\"1\" class=\"dataframe\">\n",
       "  <thead>\n",
       "    <tr style=\"text-align: right;\">\n",
       "      <th></th>\n",
       "      <th>5</th>\n",
       "      <th>0</th>\n",
       "      <th>0.1</th>\n",
       "      <th>0.2</th>\n",
       "      <th>0.3</th>\n",
       "      <th>0.4</th>\n",
       "      <th>0.5</th>\n",
       "      <th>0.6</th>\n",
       "      <th>0.7</th>\n",
       "      <th>0.8</th>\n",
       "      <th>...</th>\n",
       "      <th>0.608</th>\n",
       "      <th>0.609</th>\n",
       "      <th>0.610</th>\n",
       "      <th>0.611</th>\n",
       "      <th>0.612</th>\n",
       "      <th>0.613</th>\n",
       "      <th>0.614</th>\n",
       "      <th>0.615</th>\n",
       "      <th>0.616</th>\n",
       "      <th>0.617</th>\n",
       "    </tr>\n",
       "  </thead>\n",
       "  <tbody>\n",
       "    <tr>\n",
       "      <th>1449</th>\n",
       "      <td>1</td>\n",
       "      <td>0</td>\n",
       "      <td>0</td>\n",
       "      <td>0</td>\n",
       "      <td>0</td>\n",
       "      <td>0</td>\n",
       "      <td>0</td>\n",
       "      <td>0</td>\n",
       "      <td>0</td>\n",
       "      <td>0</td>\n",
       "      <td>...</td>\n",
       "      <td>0</td>\n",
       "      <td>0</td>\n",
       "      <td>0</td>\n",
       "      <td>0</td>\n",
       "      <td>0</td>\n",
       "      <td>0</td>\n",
       "      <td>0</td>\n",
       "      <td>0</td>\n",
       "      <td>0</td>\n",
       "      <td>0</td>\n",
       "    </tr>\n",
       "    <tr>\n",
       "      <th>813</th>\n",
       "      <td>6</td>\n",
       "      <td>0</td>\n",
       "      <td>0</td>\n",
       "      <td>0</td>\n",
       "      <td>0</td>\n",
       "      <td>0</td>\n",
       "      <td>0</td>\n",
       "      <td>0</td>\n",
       "      <td>0</td>\n",
       "      <td>0</td>\n",
       "      <td>...</td>\n",
       "      <td>0</td>\n",
       "      <td>0</td>\n",
       "      <td>0</td>\n",
       "      <td>0</td>\n",
       "      <td>0</td>\n",
       "      <td>0</td>\n",
       "      <td>0</td>\n",
       "      <td>0</td>\n",
       "      <td>0</td>\n",
       "      <td>0</td>\n",
       "    </tr>\n",
       "    <tr>\n",
       "      <th>312</th>\n",
       "      <td>6</td>\n",
       "      <td>0</td>\n",
       "      <td>0</td>\n",
       "      <td>0</td>\n",
       "      <td>0</td>\n",
       "      <td>0</td>\n",
       "      <td>0</td>\n",
       "      <td>0</td>\n",
       "      <td>0</td>\n",
       "      <td>0</td>\n",
       "      <td>...</td>\n",
       "      <td>0</td>\n",
       "      <td>0</td>\n",
       "      <td>0</td>\n",
       "      <td>0</td>\n",
       "      <td>0</td>\n",
       "      <td>0</td>\n",
       "      <td>0</td>\n",
       "      <td>0</td>\n",
       "      <td>0</td>\n",
       "      <td>0</td>\n",
       "    </tr>\n",
       "    <tr>\n",
       "      <th>1416</th>\n",
       "      <td>9</td>\n",
       "      <td>0</td>\n",
       "      <td>0</td>\n",
       "      <td>0</td>\n",
       "      <td>0</td>\n",
       "      <td>0</td>\n",
       "      <td>0</td>\n",
       "      <td>0</td>\n",
       "      <td>0</td>\n",
       "      <td>0</td>\n",
       "      <td>...</td>\n",
       "      <td>0</td>\n",
       "      <td>0</td>\n",
       "      <td>0</td>\n",
       "      <td>0</td>\n",
       "      <td>0</td>\n",
       "      <td>0</td>\n",
       "      <td>0</td>\n",
       "      <td>0</td>\n",
       "      <td>0</td>\n",
       "      <td>0</td>\n",
       "    </tr>\n",
       "    <tr>\n",
       "      <th>1977</th>\n",
       "      <td>5</td>\n",
       "      <td>0</td>\n",
       "      <td>0</td>\n",
       "      <td>0</td>\n",
       "      <td>0</td>\n",
       "      <td>0</td>\n",
       "      <td>0</td>\n",
       "      <td>0</td>\n",
       "      <td>0</td>\n",
       "      <td>0</td>\n",
       "      <td>...</td>\n",
       "      <td>0</td>\n",
       "      <td>0</td>\n",
       "      <td>0</td>\n",
       "      <td>0</td>\n",
       "      <td>0</td>\n",
       "      <td>0</td>\n",
       "      <td>0</td>\n",
       "      <td>0</td>\n",
       "      <td>0</td>\n",
       "      <td>0</td>\n",
       "    </tr>\n",
       "    <tr>\n",
       "      <th>98</th>\n",
       "      <td>8</td>\n",
       "      <td>0</td>\n",
       "      <td>0</td>\n",
       "      <td>0</td>\n",
       "      <td>0</td>\n",
       "      <td>0</td>\n",
       "      <td>0</td>\n",
       "      <td>0</td>\n",
       "      <td>0</td>\n",
       "      <td>0</td>\n",
       "      <td>...</td>\n",
       "      <td>0</td>\n",
       "      <td>0</td>\n",
       "      <td>0</td>\n",
       "      <td>0</td>\n",
       "      <td>0</td>\n",
       "      <td>0</td>\n",
       "      <td>0</td>\n",
       "      <td>0</td>\n",
       "      <td>0</td>\n",
       "      <td>0</td>\n",
       "    </tr>\n",
       "    <tr>\n",
       "      <th>850</th>\n",
       "      <td>1</td>\n",
       "      <td>0</td>\n",
       "      <td>0</td>\n",
       "      <td>0</td>\n",
       "      <td>0</td>\n",
       "      <td>0</td>\n",
       "      <td>0</td>\n",
       "      <td>0</td>\n",
       "      <td>0</td>\n",
       "      <td>0</td>\n",
       "      <td>...</td>\n",
       "      <td>0</td>\n",
       "      <td>0</td>\n",
       "      <td>0</td>\n",
       "      <td>0</td>\n",
       "      <td>0</td>\n",
       "      <td>0</td>\n",
       "      <td>0</td>\n",
       "      <td>0</td>\n",
       "      <td>0</td>\n",
       "      <td>0</td>\n",
       "    </tr>\n",
       "    <tr>\n",
       "      <th>534</th>\n",
       "      <td>8</td>\n",
       "      <td>0</td>\n",
       "      <td>0</td>\n",
       "      <td>0</td>\n",
       "      <td>0</td>\n",
       "      <td>0</td>\n",
       "      <td>0</td>\n",
       "      <td>0</td>\n",
       "      <td>0</td>\n",
       "      <td>0</td>\n",
       "      <td>...</td>\n",
       "      <td>0</td>\n",
       "      <td>0</td>\n",
       "      <td>0</td>\n",
       "      <td>0</td>\n",
       "      <td>0</td>\n",
       "      <td>0</td>\n",
       "      <td>0</td>\n",
       "      <td>0</td>\n",
       "      <td>0</td>\n",
       "      <td>0</td>\n",
       "    </tr>\n",
       "    <tr>\n",
       "      <th>1438</th>\n",
       "      <td>4</td>\n",
       "      <td>0</td>\n",
       "      <td>0</td>\n",
       "      <td>0</td>\n",
       "      <td>0</td>\n",
       "      <td>0</td>\n",
       "      <td>0</td>\n",
       "      <td>0</td>\n",
       "      <td>0</td>\n",
       "      <td>0</td>\n",
       "      <td>...</td>\n",
       "      <td>0</td>\n",
       "      <td>0</td>\n",
       "      <td>0</td>\n",
       "      <td>0</td>\n",
       "      <td>0</td>\n",
       "      <td>0</td>\n",
       "      <td>0</td>\n",
       "      <td>0</td>\n",
       "      <td>0</td>\n",
       "      <td>0</td>\n",
       "    </tr>\n",
       "    <tr>\n",
       "      <th>524</th>\n",
       "      <td>1</td>\n",
       "      <td>0</td>\n",
       "      <td>0</td>\n",
       "      <td>0</td>\n",
       "      <td>0</td>\n",
       "      <td>0</td>\n",
       "      <td>0</td>\n",
       "      <td>0</td>\n",
       "      <td>0</td>\n",
       "      <td>0</td>\n",
       "      <td>...</td>\n",
       "      <td>0</td>\n",
       "      <td>0</td>\n",
       "      <td>0</td>\n",
       "      <td>0</td>\n",
       "      <td>0</td>\n",
       "      <td>0</td>\n",
       "      <td>0</td>\n",
       "      <td>0</td>\n",
       "      <td>0</td>\n",
       "      <td>0</td>\n",
       "    </tr>\n",
       "  </tbody>\n",
       "</table>\n",
       "<p>10 rows × 785 columns</p>\n",
       "</div>"
      ],
      "text/plain": [
       "      5  0  0.1  0.2  0.3  0.4  0.5  0.6  0.7  0.8  ...  0.608  0.609  0.610  \\\n",
       "1449  1  0    0    0    0    0    0    0    0    0  ...      0      0      0   \n",
       "813   6  0    0    0    0    0    0    0    0    0  ...      0      0      0   \n",
       "312   6  0    0    0    0    0    0    0    0    0  ...      0      0      0   \n",
       "1416  9  0    0    0    0    0    0    0    0    0  ...      0      0      0   \n",
       "1977  5  0    0    0    0    0    0    0    0    0  ...      0      0      0   \n",
       "98    8  0    0    0    0    0    0    0    0    0  ...      0      0      0   \n",
       "850   1  0    0    0    0    0    0    0    0    0  ...      0      0      0   \n",
       "534   8  0    0    0    0    0    0    0    0    0  ...      0      0      0   \n",
       "1438  4  0    0    0    0    0    0    0    0    0  ...      0      0      0   \n",
       "524   1  0    0    0    0    0    0    0    0    0  ...      0      0      0   \n",
       "\n",
       "      0.611  0.612  0.613  0.614  0.615  0.616  0.617  \n",
       "1449      0      0      0      0      0      0      0  \n",
       "813       0      0      0      0      0      0      0  \n",
       "312       0      0      0      0      0      0      0  \n",
       "1416      0      0      0      0      0      0      0  \n",
       "1977      0      0      0      0      0      0      0  \n",
       "98        0      0      0      0      0      0      0  \n",
       "850       0      0      0      0      0      0      0  \n",
       "534       0      0      0      0      0      0      0  \n",
       "1438      0      0      0      0      0      0      0  \n",
       "524       0      0      0      0      0      0      0  \n",
       "\n",
       "[10 rows x 785 columns]"
      ]
     },
     "execution_count": 37,
     "metadata": {},
     "output_type": "execute_result"
    }
   ],
   "source": [
    "df.sample(10)"
   ]
  },
  {
   "cell_type": "code",
   "execution_count": 38,
   "id": "1f915edf",
   "metadata": {
    "scrolled": true
   },
   "outputs": [],
   "source": [
    "#df.isna().any()# saida foi false"
   ]
  },
  {
   "cell_type": "code",
   "execution_count": 39,
   "id": "070727ce",
   "metadata": {},
   "outputs": [
    {
     "data": {
      "text/plain": [
       "Index(['5', '0', '0.1', '0.2', '0.3', '0.4', '0.5', '0.6', '0.7', '0.8',\n",
       "       ...\n",
       "       '0.608', '0.609', '0.610', '0.611', '0.612', '0.613', '0.614', '0.615',\n",
       "       '0.616', '0.617'],\n",
       "      dtype='object', length=785)"
      ]
     },
     "execution_count": 39,
     "metadata": {},
     "output_type": "execute_result"
    }
   ],
   "source": [
    "df.columns"
   ]
  },
  {
   "cell_type": "code",
   "execution_count": 40,
   "id": "d031a26d",
   "metadata": {},
   "outputs": [
    {
     "data": {
      "text/plain": [
       "array([4, 3, 0, 2, 8, 1, 6, 9, 7, 5])"
      ]
     },
     "execution_count": 40,
     "metadata": {},
     "output_type": "execute_result"
    }
   ],
   "source": [
    "df['5'].unique()"
   ]
  },
  {
   "cell_type": "markdown",
   "id": "db547ed4",
   "metadata": {},
   "source": [
    "### Separação dos dados em features e target"
   ]
  },
  {
   "cell_type": "code",
   "execution_count": 41,
   "id": "e7c3c58a",
   "metadata": {},
   "outputs": [],
   "source": [
    "features = df.drop(['5'],axis=1)"
   ]
  },
  {
   "cell_type": "code",
   "execution_count": 42,
   "id": "6bedb0ee",
   "metadata": {},
   "outputs": [
    {
     "data": {
      "text/html": [
       "<div>\n",
       "<style scoped>\n",
       "    .dataframe tbody tr th:only-of-type {\n",
       "        vertical-align: middle;\n",
       "    }\n",
       "\n",
       "    .dataframe tbody tr th {\n",
       "        vertical-align: top;\n",
       "    }\n",
       "\n",
       "    .dataframe thead th {\n",
       "        text-align: right;\n",
       "    }\n",
       "</style>\n",
       "<table border=\"1\" class=\"dataframe\">\n",
       "  <thead>\n",
       "    <tr style=\"text-align: right;\">\n",
       "      <th></th>\n",
       "      <th>0</th>\n",
       "      <th>0.1</th>\n",
       "      <th>0.2</th>\n",
       "      <th>0.3</th>\n",
       "      <th>0.4</th>\n",
       "      <th>0.5</th>\n",
       "      <th>0.6</th>\n",
       "      <th>0.7</th>\n",
       "      <th>0.8</th>\n",
       "      <th>0.9</th>\n",
       "      <th>...</th>\n",
       "      <th>0.608</th>\n",
       "      <th>0.609</th>\n",
       "      <th>0.610</th>\n",
       "      <th>0.611</th>\n",
       "      <th>0.612</th>\n",
       "      <th>0.613</th>\n",
       "      <th>0.614</th>\n",
       "      <th>0.615</th>\n",
       "      <th>0.616</th>\n",
       "      <th>0.617</th>\n",
       "    </tr>\n",
       "  </thead>\n",
       "  <tbody>\n",
       "    <tr>\n",
       "      <th>0</th>\n",
       "      <td>0</td>\n",
       "      <td>0</td>\n",
       "      <td>0</td>\n",
       "      <td>0</td>\n",
       "      <td>0</td>\n",
       "      <td>0</td>\n",
       "      <td>0</td>\n",
       "      <td>0</td>\n",
       "      <td>0</td>\n",
       "      <td>0</td>\n",
       "      <td>...</td>\n",
       "      <td>0</td>\n",
       "      <td>0</td>\n",
       "      <td>0</td>\n",
       "      <td>0</td>\n",
       "      <td>0</td>\n",
       "      <td>0</td>\n",
       "      <td>0</td>\n",
       "      <td>0</td>\n",
       "      <td>0</td>\n",
       "      <td>0</td>\n",
       "    </tr>\n",
       "    <tr>\n",
       "      <th>1</th>\n",
       "      <td>0</td>\n",
       "      <td>0</td>\n",
       "      <td>0</td>\n",
       "      <td>0</td>\n",
       "      <td>0</td>\n",
       "      <td>0</td>\n",
       "      <td>0</td>\n",
       "      <td>0</td>\n",
       "      <td>0</td>\n",
       "      <td>0</td>\n",
       "      <td>...</td>\n",
       "      <td>0</td>\n",
       "      <td>0</td>\n",
       "      <td>0</td>\n",
       "      <td>0</td>\n",
       "      <td>0</td>\n",
       "      <td>0</td>\n",
       "      <td>0</td>\n",
       "      <td>0</td>\n",
       "      <td>0</td>\n",
       "      <td>0</td>\n",
       "    </tr>\n",
       "    <tr>\n",
       "      <th>2</th>\n",
       "      <td>0</td>\n",
       "      <td>0</td>\n",
       "      <td>0</td>\n",
       "      <td>0</td>\n",
       "      <td>0</td>\n",
       "      <td>0</td>\n",
       "      <td>0</td>\n",
       "      <td>0</td>\n",
       "      <td>0</td>\n",
       "      <td>0</td>\n",
       "      <td>...</td>\n",
       "      <td>0</td>\n",
       "      <td>0</td>\n",
       "      <td>0</td>\n",
       "      <td>0</td>\n",
       "      <td>0</td>\n",
       "      <td>0</td>\n",
       "      <td>0</td>\n",
       "      <td>0</td>\n",
       "      <td>0</td>\n",
       "      <td>0</td>\n",
       "    </tr>\n",
       "    <tr>\n",
       "      <th>3</th>\n",
       "      <td>0</td>\n",
       "      <td>0</td>\n",
       "      <td>0</td>\n",
       "      <td>0</td>\n",
       "      <td>0</td>\n",
       "      <td>0</td>\n",
       "      <td>0</td>\n",
       "      <td>0</td>\n",
       "      <td>0</td>\n",
       "      <td>0</td>\n",
       "      <td>...</td>\n",
       "      <td>0</td>\n",
       "      <td>0</td>\n",
       "      <td>0</td>\n",
       "      <td>0</td>\n",
       "      <td>0</td>\n",
       "      <td>0</td>\n",
       "      <td>0</td>\n",
       "      <td>0</td>\n",
       "      <td>0</td>\n",
       "      <td>0</td>\n",
       "    </tr>\n",
       "    <tr>\n",
       "      <th>4</th>\n",
       "      <td>0</td>\n",
       "      <td>0</td>\n",
       "      <td>0</td>\n",
       "      <td>0</td>\n",
       "      <td>0</td>\n",
       "      <td>0</td>\n",
       "      <td>0</td>\n",
       "      <td>0</td>\n",
       "      <td>0</td>\n",
       "      <td>0</td>\n",
       "      <td>...</td>\n",
       "      <td>0</td>\n",
       "      <td>0</td>\n",
       "      <td>0</td>\n",
       "      <td>0</td>\n",
       "      <td>0</td>\n",
       "      <td>0</td>\n",
       "      <td>0</td>\n",
       "      <td>0</td>\n",
       "      <td>0</td>\n",
       "      <td>0</td>\n",
       "    </tr>\n",
       "  </tbody>\n",
       "</table>\n",
       "<p>5 rows × 784 columns</p>\n",
       "</div>"
      ],
      "text/plain": [
       "   0  0.1  0.2  0.3  0.4  0.5  0.6  0.7  0.8  0.9  ...  0.608  0.609  0.610  \\\n",
       "0  0    0    0    0    0    0    0    0    0    0  ...      0      0      0   \n",
       "1  0    0    0    0    0    0    0    0    0    0  ...      0      0      0   \n",
       "2  0    0    0    0    0    0    0    0    0    0  ...      0      0      0   \n",
       "3  0    0    0    0    0    0    0    0    0    0  ...      0      0      0   \n",
       "4  0    0    0    0    0    0    0    0    0    0  ...      0      0      0   \n",
       "\n",
       "   0.611  0.612  0.613  0.614  0.615  0.616  0.617  \n",
       "0      0      0      0      0      0      0      0  \n",
       "1      0      0      0      0      0      0      0  \n",
       "2      0      0      0      0      0      0      0  \n",
       "3      0      0      0      0      0      0      0  \n",
       "4      0      0      0      0      0      0      0  \n",
       "\n",
       "[5 rows x 784 columns]"
      ]
     },
     "execution_count": 42,
     "metadata": {},
     "output_type": "execute_result"
    }
   ],
   "source": [
    "features.head()"
   ]
  },
  {
   "cell_type": "code",
   "execution_count": 43,
   "id": "e6977dd7",
   "metadata": {},
   "outputs": [
    {
     "data": {
      "text/plain": [
       "(2000, 784)"
      ]
     },
     "execution_count": 43,
     "metadata": {},
     "output_type": "execute_result"
    }
   ],
   "source": [
    "features.shape"
   ]
  },
  {
   "cell_type": "code",
   "execution_count": 44,
   "id": "f581991e",
   "metadata": {},
   "outputs": [],
   "source": [
    "target = to_categorical(df['5'])"
   ]
  },
  {
   "cell_type": "code",
   "execution_count": 45,
   "id": "9a955cef",
   "metadata": {},
   "outputs": [
    {
     "data": {
      "text/plain": [
       "array([[0., 0., 0., ..., 0., 0., 0.],\n",
       "       [0., 0., 0., ..., 0., 0., 0.],\n",
       "       [1., 0., 0., ..., 0., 0., 0.],\n",
       "       ...,\n",
       "       [0., 0., 0., ..., 0., 1., 0.],\n",
       "       [0., 0., 0., ..., 0., 0., 1.],\n",
       "       [0., 0., 0., ..., 0., 0., 1.]], dtype=float32)"
      ]
     },
     "execution_count": 45,
     "metadata": {},
     "output_type": "execute_result"
    }
   ],
   "source": [
    "target"
   ]
  },
  {
   "cell_type": "code",
   "execution_count": 46,
   "id": "8d91ddbf",
   "metadata": {},
   "outputs": [
    {
     "data": {
      "text/plain": [
       "(2000, 10)"
      ]
     },
     "execution_count": 46,
     "metadata": {},
     "output_type": "execute_result"
    }
   ],
   "source": [
    "target.shape"
   ]
  },
  {
   "cell_type": "code",
   "execution_count": 47,
   "id": "299e7981",
   "metadata": {},
   "outputs": [
    {
     "data": {
      "text/plain": [
       "(784,)"
      ]
     },
     "execution_count": 47,
     "metadata": {},
     "output_type": "execute_result"
    }
   ],
   "source": [
    "input_shape = features.shape[1:]\n",
    "input_shape"
   ]
  },
  {
   "cell_type": "markdown",
   "id": "83dc66b0",
   "metadata": {},
   "source": [
    "### 1 camada escondida com 50 neurônios"
   ]
  },
  {
   "cell_type": "code",
   "execution_count": 61,
   "id": "c1afa82f",
   "metadata": {},
   "outputs": [],
   "source": [
    "def get_new_model_relu(input_shape = input_shape):\n",
    "    model = Sequential()\n",
    "    model.add(Dense(50, activation='relu', input_shape = input_shape)) \n",
    "    model.add(Dense(10, activation='softmax'))\n",
    "    return(model)\n",
    "def get_new_model_tanh(input_shape = input_shape):\n",
    "    model = Sequential()\n",
    "    model.add(Dense(50, activation='tanh', input_shape = input_shape)) \n",
    "    model.add(Dense(10, activation='softmax'))\n",
    "    return(model)"
   ]
  },
  {
   "cell_type": "markdown",
   "id": "44a35cff",
   "metadata": {},
   "source": [
    "### Funções de ativação tanh e relu na sua arquitetura e comparação dos resultados variando a taxa de aprendizagem para otimizar o modelo"
   ]
  },
  {
   "cell_type": "markdown",
   "id": "f836040c",
   "metadata": {},
   "source": [
    "### Variação de parâmetros para ajuste"
   ]
  },
  {
   "cell_type": "markdown",
   "id": "c13076af",
   "metadata": {},
   "source": [
    "#### Aumentar a capacidade: neurônios"
   ]
  },
  {
   "cell_type": "code",
   "execution_count": 64,
   "id": "2d56f56e",
   "metadata": {},
   "outputs": [],
   "source": [
    "def get_new_model_relu(input_shape = input_shape):\n",
    "    model = Sequential()\n",
    "    model.add(Dense(200, activation='relu', input_shape = input_shape))\n",
    "    model.add(Dense(10, activation='softmax'))\n",
    "    return(model)\n",
    "def get_new_model_tanh(input_shape = input_shape):\n",
    "    model = Sequential()\n",
    "    model.add(Dense(200, activation='tanh', input_shape = input_shape))\n",
    "    model.add(Dense(10, activation='softmax'))\n",
    "    return(model)"
   ]
  },
  {
   "cell_type": "markdown",
   "id": "20e1f7ba",
   "metadata": {},
   "source": [
    "#### Aumentar a capacidade: camadas ocultas "
   ]
  },
  {
   "cell_type": "code",
   "execution_count": 67,
   "id": "f4eca6cc",
   "metadata": {},
   "outputs": [],
   "source": [
    "def get_new_model_relu(input_shape = input_shape):\n",
    "    model = Sequential()\n",
    "    model.add(Dense(200, activation='relu', input_shape = input_shape))\n",
    "    model.add(Dense(200, activation='relu'))\n",
    "    model.add(Dense(10, activation='softmax'))\n",
    "    return(model)\n",
    "def get_new_model_tanh(input_shape = input_shape):\n",
    "    model = Sequential()\n",
    "    model.add(Dense(200, activation='tanh', input_shape = input_shape))\n",
    "    model.add(Dense(200, activation='tanh'))\n",
    "    model.add(Dense(10, activation='softmax'))\n",
    "    return(model)"
   ]
  },
  {
   "cell_type": "markdown",
   "id": "4c86a430",
   "metadata": {},
   "source": [
    "#### Teste do modelo:"
   ]
  },
  {
   "cell_type": "code",
   "execution_count": 68,
   "id": "2f407533",
   "metadata": {},
   "outputs": [
    {
     "name": "stdout",
     "output_type": "stream",
     "text": [
      "Modelo com RELU:\n",
      "ADAM:\n",
      "Learning Rate: 1e-06\n",
      "63/63 [==============================] - 1s 4ms/step - loss: 90.2742 - accuracy: 0.1535\n",
      "Learning Rate: 0.01\n",
      "63/63 [==============================] - 1s 4ms/step - loss: 57.2369 - accuracy: 0.3095\n",
      "Learning Rate: 1.1\n",
      "63/63 [==============================] - 1s 5ms/step - loss: 934721.4375 - accuracy: 0.0940\n",
      "Stocastic Gradient Descent:\n",
      "Learning Rate: 1e-06\n",
      "63/63 [==============================] - 1s 4ms/step - loss: 107.5613 - accuracy: 0.0880\n",
      "Learning Rate: 0.01\n",
      "63/63 [==============================] - 1s 4ms/step - loss: 11604620386801720359618024046592.0000 - accuracy: 0.1115\n",
      "Learning Rate: 1.1\n",
      "63/63 [==============================] - 1s 4ms/step - loss: 6182445971931136.0000 - accuracy: 0.1050\n"
     ]
    }
   ],
   "source": [
    "print('Modelo com RELU:')\n",
    "lr_to_test = [.000001, 0.01, 1.1]\n",
    "print('ADAM:')\n",
    "# loop over learning rates\n",
    "for lra in lr_to_test:\n",
    "    opt = keras.optimizers.Adam(learning_rate=lra)\n",
    "    model = get_new_model_relu()\n",
    "    print('Learning Rate:', lra)\n",
    "    model.compile(optimizer=opt,loss='categorical_crossentropy',metrics='accuracy') \n",
    "    model.fit(features, target)\n",
    "\n",
    "print('Stocastic Gradient Descent:')\n",
    "# loop over learning rates\n",
    "for lrs in lr_to_test:\n",
    "    opt = keras.optimizers.SGD(learning_rate=lrs)\n",
    "    model = get_new_model_relu()\n",
    "    print('Learning Rate:', lrs)\n",
    "    model.compile(optimizer=opt,loss='categorical_crossentropy',metrics='accuracy') \n",
    "    model.fit(features, target)"
   ]
  },
  {
   "cell_type": "code",
   "execution_count": 69,
   "id": "fa9ea168",
   "metadata": {},
   "outputs": [
    {
     "name": "stdout",
     "output_type": "stream",
     "text": [
      "Modelo com TANH:\n",
      "ADAM:\n",
      "Learning Rate: 1e-06\n",
      "63/63 [==============================] - 1s 4ms/step - loss: 2.5459 - accuracy: 0.0980\n",
      "Learning Rate: 0.01\n",
      "63/63 [==============================] - 1s 5ms/step - loss: 1.4586 - accuracy: 0.5085\n",
      "Learning Rate: 1.1\n",
      "63/63 [==============================] - 1s 9ms/step - loss: 191.0683 - accuracy: 0.0900: 0s - loss: 227.6378 - accura\n",
      "Stocastic Gradient Descent:\n",
      "Learning Rate: 1e-06\n",
      "63/63 [==============================] - 1s 4ms/step - loss: 2.6622 - accuracy: 0.0620\n",
      "Learning Rate: 0.01\n",
      "63/63 [==============================] - 1s 5ms/step - loss: 1.6789 - accuracy: 0.4470\n",
      "Learning Rate: 1.1\n",
      "63/63 [==============================] - 1s 5ms/step - loss: 88.3570 - accuracy: 0.0995\n"
     ]
    }
   ],
   "source": [
    "print('Modelo com TANH:')\n",
    "lr_to_test = [.000001, 0.01, 1.1]\n",
    "print('ADAM:')\n",
    "# loop over learning rates\n",
    "for lra in lr_to_test:\n",
    "    opt = keras.optimizers.Adam(learning_rate=lra)\n",
    "    model = get_new_model_tanh()\n",
    "    print('Learning Rate:', lra)\n",
    "    model.compile(optimizer=opt,loss='categorical_crossentropy',metrics='accuracy') \n",
    "    model.fit(features, target)\n",
    "\n",
    "print('Stocastic Gradient Descent:')\n",
    "# loop over learning rates\n",
    "for lrs in lr_to_test:\n",
    "    opt = keras.optimizers.SGD(learning_rate=lrs)\n",
    "    model = get_new_model_tanh()\n",
    "    print('Learning Rate:', lrs)\n",
    "    model.compile(optimizer=opt,loss='categorical_crossentropy',metrics='accuracy') \n",
    "    model.fit(features, target)"
   ]
  },
  {
   "cell_type": "code",
   "execution_count": 147,
   "id": "32453e32",
   "metadata": {},
   "outputs": [],
   "source": [
    "model.save('model_file.h5')"
   ]
  }
 ],
 "metadata": {
  "kernelspec": {
   "display_name": "Python 3",
   "language": "python",
   "name": "python3"
  },
  "language_info": {
   "codemirror_mode": {
    "name": "ipython",
    "version": 3
   },
   "file_extension": ".py",
   "mimetype": "text/x-python",
   "name": "python",
   "nbconvert_exporter": "python",
   "pygments_lexer": "ipython3",
   "version": "3.8.10"
  }
 },
 "nbformat": 4,
 "nbformat_minor": 5
}
